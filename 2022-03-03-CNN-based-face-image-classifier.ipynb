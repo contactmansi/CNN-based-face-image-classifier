{
 "cells": [
  {
   "cell_type": "markdown",
   "metadata": {},
   "source": [
    "# Facial Recognition using Convolutional Neural Network (CNN)\n",
    "\n",
    "> CNN is a neural network typically composed of two components, one component for extracting useful features of the data, and another for performing a ML task (like classification based on the featurized data)\n",
    "\n",
    "- toc: false\n",
    "- badges: true\n",
    "- comments: true\n",
    "- categories: [image-analytics, cnn, classification, fully connected, convolutional neural network, faces-dataset]\n",
    "- image: images/facial_recognition.png"
   ]
  },
  {
   "cell_type": "code",
   "execution_count": 1,
   "metadata": {
    "id": "Lf8mKlZm2ucu"
   },
   "outputs": [],
   "source": [
    "import keras\n",
    "from keras.models import Sequential\n",
    "from keras.layers import Dense, Input, Conv2D, Flatten, MaxPooling2D\n",
    "from sklearn.model_selection import train_test_split\n",
    "from sklearn.datasets import fetch_olivetti_faces\n",
    "import numpy as np\n",
    "import scipy as sp\n",
    "import matplotlib.pyplot as plt\n",
    "%matplotlib inline\n",
    "\n",
    "import warnings\n",
    "warnings.filterwarnings('ignore')"
   ]
  },
  {
   "cell_type": "code",
   "execution_count": 2,
   "metadata": {
    "id": "FwkF_uir2-St"
   },
   "outputs": [],
   "source": [
    "# set the random seed to make the experiment reproducible \n",
    "random_seed = 1\n",
    "np.random.seed(random_seed)"
   ]
  },
  {
   "cell_type": "markdown",
   "metadata": {
    "id": "QKwjg_AG3Cly"
   },
   "source": [
    "## Working with Faces Image Data: CNNs\n",
    "\n",
    "Convolutional Neural Network (CNN) is  especially suited for feature extraction of image data. A CNN is a neural network typically composed of two components, one component for extracting useful features of the data, and another for performing a ML task (like classification based on the featurized data). We will also compare the performances and number of parameteres between Fully-Connected NNs (FCNNs) and CNNs."
   ]
  },
  {
   "cell_type": "code",
   "execution_count": 3,
   "metadata": {
    "colab": {
     "base_uri": "https://localhost:8080/"
    },
    "id": "ZlcbjJKh2-og",
    "outputId": "7b2ff653-e077-475a-94c1-011a6272b24d"
   },
   "outputs": [],
   "source": [
    "# image shape\n",
    "image_shape = (64, 64)\n",
    "\n",
    "# load faces data\n",
    "faces_dataset = fetch_olivetti_faces(shuffle=True, random_state=random_seed)\n",
    "faces = faces_dataset.data\n",
    "n_samples, n_features = faces.shape\n",
    "\n",
    "# function to visualize images\n",
    "def plot_face(ax, img, image_shape):\n",
    "    vmax = max(img.max(), -img.min())\n",
    "    ax.imshow(img.reshape(image_shape), cmap=plt.cm.gray,\n",
    "              interpolation='nearest',\n",
    "              vmin=-vmax, vmax=vmax)\n",
    "    return ax"
   ]
  },
  {
   "cell_type": "code",
   "execution_count": 4,
   "metadata": {
    "id": "2Z5IZZjE3GS0"
   },
   "outputs": [],
   "source": [
    "labels = faces_dataset.target\n",
    "# take images from only two individuals\n",
    "X_flat = faces[(labels == 0) | (labels == 1)]\n",
    "X = X_flat.reshape((20, 64, 64, 1))\n",
    "Y = labels[(labels == 0) | (labels == 1)]"
   ]
  },
  {
   "cell_type": "code",
   "execution_count": 5,
   "metadata": {
    "colab": {
     "base_uri": "https://localhost:8080/",
     "height": 304
    },
    "id": "89gZRBtc3OMf",
    "outputId": "b1b17bec-3696-4842-feb9-73b78bbfed2c"
   },
   "outputs": [
    {
     "data": {
      "image/png": "[encoded data removed]",
      "text/plain": [
       "<Figure size 720x360 with 2 Axes>"
      ]
     },
     "metadata": {
      "needs_background": "light"
     },
     "output_type": "display_data"
    }
   ],
   "source": [
    "# we plot two sample images from the data set\n",
    "fig, ax = plt.subplots(1, 2, figsize=(10, 5))\n",
    "ax[0] = plot_face(ax[0], X[Y == 0][0], image_shape)\n",
    "ax[1] = plot_face(ax[1], X[Y == 1][0], image_shape)\n",
    "plt.show()"
   ]
  },
  {
   "cell_type": "markdown",
   "metadata": {
    "id": "eASq7tpu3P0C"
   },
   "source": [
    "## I. Classification with a FNN\n",
    "\n",
    "**Task #1:** Build a shallow FNN to classify the face images. \n",
    "1. Only one hidden layer and its hidden layer size is 4\n",
    "2. Activation function is set to be relu"
   ]
  },
  {
   "cell_type": "code",
   "execution_count": 6,
   "metadata": {
    "id": "ziKdDrAD3QSN"
   },
   "outputs": [
    {
     "name": "stdout",
     "output_type": "stream",
     "text": [
      "Metal device set to: Apple M1 Pro\n"
     ]
    },
    {
     "name": "stderr",
     "output_type": "stream",
     "text": [
      "2022-03-04 01:15:08.996510: I tensorflow/core/common_runtime/pluggable_device/pluggable_device_factory.cc:305] Could not identify NUMA node of platform GPU ID 0, defaulting to 0. Your kernel may not have been built with NUMA support.\n",
      "2022-03-04 01:15:08.996613: I tensorflow/core/common_runtime/pluggable_device/pluggable_device_factory.cc:271] Created TensorFlow device (/job:localhost/replica:0/task:0/device:GPU:0 with 0 MB memory) -> physical PluggableDevice (device: 0, name: METAL, pci bus id: <undefined>)\n"
     ]
    }
   ],
   "source": [
    "# fix a width that is suited for image data (play with this)\n",
    "input_dim = X_flat.shape[1]\n",
    "H = input_dim\n",
    "hidden_size = 4\n",
    "# create sequential multi-layer perceptron\n",
    "FCNN = Sequential()\n",
    "#input layer\n",
    "FCNN.add(Input(shape=(input_dim, )))\n",
    "#hidden layer\n",
    "FCNN.add(Dense(hidden_size, activation='relu', name='hidden_layer'))\n",
    "#binary classification, one output\n",
    "FCNN.add(Dense(1, activation='sigmoid', name='Classification_output_layer'))\n",
    "# configure the model\n",
    "FCNN.compile(loss='binary_crossentropy',metrics=['acc'])"
   ]
  },
  {
   "cell_type": "markdown",
   "metadata": {
    "id": "88RLZEbJFPUL"
   },
   "source": [
    "### What is the number of parameters in the above FCNN architecture?\n",
    "\n",
    "hint: print a summary of the model "
   ]
  },
  {
   "cell_type": "code",
   "execution_count": 7,
   "metadata": {
    "id": "86SQAAPGFadk"
   },
   "outputs": [
    {
     "name": "stdout",
     "output_type": "stream",
     "text": [
      "Model: \"sequential\"\n",
      "_________________________________________________________________\n",
      " Layer (type)                Output Shape              Param #   \n",
      "=================================================================\n",
      " hidden_layer (Dense)        (None, 4)                 16388     \n",
      "                                                                 \n",
      " Classification_output_layer  (None, 1)                5         \n",
      "  (Dense)                                                        \n",
      "                                                                 \n",
      "=================================================================\n",
      "Total params: 16,393\n",
      "Trainable params: 16,393\n",
      "Non-trainable params: 0\n",
      "_________________________________________________________________\n"
     ]
    }
   ],
   "source": [
    "## your answer\n",
    "FCNN.summary()"
   ]
  },
  {
   "cell_type": "code",
   "execution_count": 8,
   "metadata": {
    "id": "n_UKOWDhA-bQ"
   },
   "outputs": [
    {
     "name": "stderr",
     "output_type": "stream",
     "text": [
      "2022-03-04 01:15:09.082912: W tensorflow/core/platform/profile_utils/cpu_utils.cc:128] Failed to get CPU frequency: 0 Hz\n",
      "2022-03-04 01:15:09.239089: I tensorflow/core/grappler/optimizers/custom_graph_optimizer_registry.cc:113] Plugin optimizer for device_type GPU is enabled.\n"
     ]
    }
   ],
   "source": [
    "history = FCNN.fit(X_flat, Y, epochs=20, batch_size=5, verbose=0)"
   ]
  },
  {
   "cell_type": "code",
   "execution_count": 9,
   "metadata": {},
   "outputs": [
    {
     "name": "stdout",
     "output_type": "stream",
     "text": [
      "Train loss: 0.6931509375572205\n",
      "Train accuracy: 0.5\n"
     ]
    },
    {
     "name": "stderr",
     "output_type": "stream",
     "text": [
      "2022-03-04 01:15:09.723947: I tensorflow/core/grappler/optimizers/custom_graph_optimizer_registry.cc:113] Plugin optimizer for device_type GPU is enabled.\n"
     ]
    }
   ],
   "source": [
    "# evaluate the training and testing performance of your model \n",
    "score = FCNN.evaluate(X_flat, Y, verbose=0)\n",
    "print('Train loss:', score[0])\n",
    "print('Train accuracy:', score[1])"
   ]
  },
  {
   "cell_type": "markdown",
   "metadata": {
    "id": "eHoZCuTn3VUa"
   },
   "source": [
    "## II. Classification with a CNN\n",
    "\n",
    "**Task #2:** Build a CNN with one convolutional layer, one maxpooling layer and one dense layer to classify the face images. What are some theoretical strengths and drawbacks of using CNN versus MLP for handling image data? \n",
    "\n",
    "1. Kernel Size, Stride Size and number of filters for Conv2D layer is specified as below. The activation function is relu\n",
    "2. The pooling size is 4 by 4 for maxpooling Layer\n",
    "\n",
    "Other hyper-parameters in neural networks are set to be default."
   ]
  },
  {
   "cell_type": "code",
   "execution_count": 10,
   "metadata": {
    "id": "7TeDuuKQ3Wbp"
   },
   "outputs": [],
   "source": [
    "# kernel size\n",
    "kernel_size = (8, 8)\n",
    "# stride size\n",
    "stride_size = (1, 1)\n",
    "# number of filters\n",
    "filters = 4\n",
    "\n",
    "cnn_model = Sequential()\n",
    "cnn_model.add(Input(shape=(64, 64, 1)))\n",
    "# feature extraction layer 0: convolution\n",
    "cnn_model.add(Conv2D(filters, kernel_size=kernel_size, activation='relu', strides=stride_size))\n",
    "# feature extraction layer 1: max pooling\n",
    "cnn_model.add(MaxPooling2D(pool_size=(4,4)))\n",
    "# classification layer 2: flattening\n",
    "cnn_model.add(Flatten())\n",
    "# classification layer 3: dense non-linear transformation\n",
    "cnn_model.add(Dense(4, activation='relu', name='Relu_Non_linear'))\n",
    "# classification layer 4: output label probability\n",
    "cnn_model.add(Dense(1, activation='sigmoid', name = 'Output_label_probability'))\n",
    "# configure the model\n",
    "cnn_model.compile(loss='binary_crossentropy',\n",
    "                 metrics=['accuracy'])"
   ]
  },
  {
   "cell_type": "markdown",
   "metadata": {
    "id": "uop89h12DzSv"
   },
   "source": [
    "### What is the number of parameters in the above CNN architecture. And compare the model size with the FCNN model size"
   ]
  },
  {
   "cell_type": "code",
   "execution_count": 11,
   "metadata": {
    "scrolled": true
   },
   "outputs": [
    {
     "name": "stdout",
     "output_type": "stream",
     "text": [
      "Model: \"sequential_1\"\n",
      "_________________________________________________________________\n",
      " Layer (type)                Output Shape              Param #   \n",
      "=================================================================\n",
      " conv2d (Conv2D)             (None, 57, 57, 4)         260       \n",
      "                                                                 \n",
      " max_pooling2d (MaxPooling2D  (None, 14, 14, 4)        0         \n",
      " )                                                               \n",
      "                                                                 \n",
      " flatten (Flatten)           (None, 784)               0         \n",
      "                                                                 \n",
      " Relu_Non_linear (Dense)     (None, 4)                 3140      \n",
      "                                                                 \n",
      " Output_label_probability (D  (None, 1)                5         \n",
      " ense)                                                           \n",
      "                                                                 \n",
      "=================================================================\n",
      "Total params: 3,405\n",
      "Trainable params: 3,405\n",
      "Non-trainable params: 0\n",
      "_________________________________________________________________\n"
     ]
    }
   ],
   "source": [
    "# your answer\n",
    "cnn_model.summary()"
   ]
  },
  {
   "cell_type": "markdown",
   "metadata": {},
   "source": [
    "### Compare the CNN model size with the FCNN model size\n",
    "#### FCNN Model total parameters = 16,393. \n",
    "- Let's interpret this parameter size. For each face image with (64 x 64 x 1) pixels in grayscale equal to (64 x 64 x 1) weights are needed by every hidden layer along with 4 bias terms, 1 term for each layer, i.e. ((64 x 64 x 1) x 4) + 4 = 16,388 weight parameters are needed by the FCNN model hidden layers alone.\n",
    "\n",
    "#### CNN Model total parameters = 3,405\n",
    "- Convolution Layer has 4 filter kernels with dimensions (8 x 8) each, that perform convolution operation with same size (8 x 8) sub grid of input image of dimensions(64 x 64 x 1) and move 1 stride in each iteration, first horizontally then vertically. This results into a smaller size output of dimension (57 x 57) each for 4 filters. Activation function 'relu' only gives outputs that are greater than 0. The (8 x 8) filter grid produces 64 weight paramters each for 4 filters that result into 256 weights and 4 bias terms(for 4 filter kernels) leading to 260 total weights in the convolution layer.\n",
    "- MaxPooling2D Layer has a pool_size of (4 x 4) which means that for every (4 x 4) sub-matrix moving with 1 stride on (57 x 57) image output of convoliton layer a maximum value from these 4 values will be resulting into output of this layer. This will reduce the convoluted image into (14 x 14) image output for each of the 4 filters and no weights as parameters.\n",
    "- These (14 x 14 x 4) are flattened into a single vector array with 784 values\n",
    "- This flattened array passes through 4 hidden layers producing (784 x 4 = 3136) weights and 1 bias terms for each of the 4 layers resulting into 3140 paramters.\n",
    "\n",
    "##### We can conclude that the number of model parameters is significantly reduced due to convolution layer and size of input image is further reduced by max_pooling layer according to pool_size. In this way the hidden layer receives only 784 values for creating the fully connected network to extract features. CNN requires very less parameters as compared to FCNN model, we can conclude that CNN is more efficient than FCNN for image feature extraction tasks."
   ]
  },
  {
   "cell_type": "code",
   "execution_count": 12,
   "metadata": {
    "id": "onoImeYJ3Yfg"
   },
   "outputs": [
    {
     "name": "stderr",
     "output_type": "stream",
     "text": [
      "2022-03-04 01:15:09.992105: I tensorflow/core/grappler/optimizers/custom_graph_optimizer_registry.cc:113] Plugin optimizer for device_type GPU is enabled.\n"
     ]
    }
   ],
   "source": [
    "# fit the model\n",
    "history = cnn_model.fit(X, Y, epochs=20, batch_size=5, verbose=0)"
   ]
  },
  {
   "cell_type": "code",
   "execution_count": 13,
   "metadata": {},
   "outputs": [
    {
     "name": "stdout",
     "output_type": "stream",
     "text": [
      "Train loss: 0.33920690417289734\n",
      "Train accuracy: 1.0\n"
     ]
    },
    {
     "name": "stderr",
     "output_type": "stream",
     "text": [
      "2022-03-04 01:15:10.579752: I tensorflow/core/grappler/optimizers/custom_graph_optimizer_registry.cc:113] Plugin optimizer for device_type GPU is enabled.\n"
     ]
    }
   ],
   "source": [
    "# evaluate the training and testing performance of your model \n",
    "# note: you should extract check both the loss function and your evaluation metric\n",
    "score = cnn_model.evaluate(X, Y, verbose=0)\n",
    "print('Train loss:', score[0])\n",
    "print('Train accuracy:', score[1])"
   ]
  },
  {
   "cell_type": "markdown",
   "metadata": {
    "id": "2d2-P-Y-GAPE"
   },
   "source": [
    "You should find the CNN model size is smaller than the FCNN model size while FCNN's training accuracy is much lower than CNN's training accuracy. **Is it due to overfitting? If not, pls explain**"
   ]
  },
  {
   "cell_type": "code",
   "execution_count": 14,
   "metadata": {},
   "outputs": [],
   "source": [
    "# your answer"
   ]
  },
  {
   "cell_type": "markdown",
   "metadata": {},
   "source": [
    "FCNN network with large number of parameters(16k) can face several problems such as overfitting, slower speed of training, capturing patterns globally and not locally, because in FCNN a single network is responsible for feature extractor of whole image. Due to this, FCNN fails at recognizing same/similar patterns at different locations as it might becomes location sensitive. \n",
    "\n",
    "We must note that for image data analysis - **local features matter and they are significantly very important**. \n",
    "\n",
    "CNN allows us to focus on capturing discriminative smaller sub-patterns that make model capable to differentiate between 2 and more faces. The CNN trained model is now capable to implement it's learnings on test data while performing classification operation. CNN allows to establish multiple networks of neurons for feature extraction wherein parameters such as filters, strides_size and pooling layers facilitate a smaller and optimum number of model parameters to capture local patterns for differentiation and lead to more efficiency, flexibility in learning and performance accuracy. Also, major advantage is that, in CNN small network neurons remain insensitive to location of patterns. Thus, when same/similar patterns appear in different regions of different images CNN  performs well in identifying these local patterns."
   ]
  },
  {
   "cell_type": "markdown",
   "metadata": {
    "id": "OUtInDnu3fGz"
   },
   "source": [
    "## III What Exactly Does a CNN Learn?\n",
    "\n",
    "A Multi-Layer Perceptron (MLP) trained for classification learns a non-linear transformation of the data so that the classes are linearly separable. Here, we could try to get an intuitive understanding of what is the transformation learned from each hidden layer in a CNN.\n",
    "\n",
    "\n",
    "**Task #3:** Let's visualize the weights connecting the input image to each kernel in the convolutional layer, these are called 'filters'. Explain how each filter is applied to the input image."
   ]
  },
  {
   "cell_type": "code",
   "execution_count": 15,
   "metadata": {
    "id": "jduuKcId3eVu"
   },
   "outputs": [
    {
     "data": {
      "image/png": "[encoded data removed]",
      "text/plain": [
       "<Figure size 720x360 with 2 Axes>"
      ]
     },
     "metadata": {
      "needs_background": "light"
     },
     "output_type": "display_data"
    },
    {
     "data": {
      "image/png": "[encoded data removed]",
      "text/plain": [
       "<Figure size 720x360 with 4 Axes>"
      ]
     },
     "metadata": {
      "needs_background": "light"
     },
     "output_type": "display_data"
    }
   ],
   "source": [
    "# visualize the four filters we learned\n",
    "\n",
    "# we plot two sample images from the data set\n",
    "fig, ax = plt.subplots(1, 2, figsize=(10, 5))\n",
    "ax[0] = plot_face(ax[0], X[Y == 0][0], image_shape)\n",
    "ax[1] = plot_face(ax[1], X[Y == 1][0], image_shape)\n",
    "plt.show()\n",
    "\n",
    "# using plot_face() function to visualize the four (8,8) filters cnn_model learned\n",
    "fig, ax = plt.subplots(1, 4, figsize=(10, 5))\n",
    "ax[0] = plot_face(ax[0], cnn_model.layers[0].get_weights()[0][:, :, :, 0].flatten(), (8, 8))\n",
    "ax[1] = plot_face(ax[1], cnn_model.layers[0].get_weights()[0][:, :, :, 1].flatten(), (8, 8))\n",
    "ax[2] = plot_face(ax[2], cnn_model.layers[0].get_weights()[0][:, :, :, 2].flatten(), (8, 8))\n",
    "ax[3] = plot_face(ax[3], cnn_model.layers[0].get_weights()[0][:, :, :, 3].flatten(), (8, 8))\n",
    "plt.show()"
   ]
  },
  {
   "cell_type": "markdown",
   "metadata": {},
   "source": [
    "### Explain how each filter is applied to the input image\n",
    "\n",
    "#####  Each (8 x 8) kernel performs convolution operation with smaller (8 x 8) sub-grids of input face image. As a result of this dot product operation, 4 feature Maps are created for 4 different kernels. To understand visually, we can say that the each (8 x 8) kernel moves first horizontally and then vertically on top of (8 x 8) subgrids of each (64 x 64 x 1) face image with 1 step stride size to produce a convolved image of (57 x 57). The 4 kernels with different weights perform the same dot product operation on input face image to produce these resultant 4 feature Maps."
   ]
  },
  {
   "cell_type": "markdown",
   "metadata": {
    "id": "HWfSYlyc7ruo"
   },
   "source": [
    "**Task #4:** visualize the output of the convolutional layer and the pooling layer separately. Describe how each layer has transformed the data."
   ]
  },
  {
   "cell_type": "code",
   "execution_count": 16,
   "metadata": {
    "id": "jEMb2o2376Q7"
   },
   "outputs": [],
   "source": [
    "# visualize a training image after it passes through each filter\n",
    "\n",
    "# using the backend.function in keras\n",
    "from tensorflow.keras import backend\n",
    "face_0 = X[Y == 0][0]\n",
    "get_conv_layer_output = backend.function([cnn_model.layers[0].input],\n",
    "                                  [cnn_model.layers[0].output])\n",
    "layer_output = get_conv_layer_output(np.expand_dims(face_0, axis=0))[0]"
   ]
  },
  {
   "cell_type": "code",
   "execution_count": 17,
   "metadata": {
    "id": "jEMb2o2376Q7"
   },
   "outputs": [
    {
     "data": {
      "image/png": "[encoded data removed]",
      "text/plain": [
       "<Figure size 720x360 with 4 Axes>"
      ]
     },
     "metadata": {
      "needs_background": "light"
     },
     "output_type": "display_data"
    }
   ],
   "source": [
    "# visualize a training image \"face_0\" after it passes through the above four filters\n",
    "conv_output_img_shape = (57,57)\n",
    "fig, ax = plt.subplots(1, 4, figsize=(10, 5))\n",
    "ax[0] = plot_face(ax[0], layer_output[:, :, :, 0].flatten(), conv_output_img_shape)\n",
    "ax[1] = plot_face(ax[1], layer_output[:, :, :, 1].flatten(), conv_output_img_shape)\n",
    "ax[2] = plot_face(ax[2], layer_output[:, :, :, 2].flatten(), conv_output_img_shape)\n",
    "ax[3] = plot_face(ax[3], layer_output[:, :, :, 3].flatten(), conv_output_img_shape)\n",
    "plt.show()"
   ]
  },
  {
   "cell_type": "code",
   "execution_count": 18,
   "metadata": {},
   "outputs": [],
   "source": [
    "get_pool_layer_output = backend.function([cnn_model.layers[0].input],\n",
    "                                  [cnn_model.layers[1].output])\n",
    "pool_output = get_pool_layer_output(np.expand_dims(face_0, axis=0))[0] "
   ]
  },
  {
   "cell_type": "code",
   "execution_count": 19,
   "metadata": {},
   "outputs": [
    {
     "data": {
      "image/png": "[encoded data removed]",
      "text/plain": [
       "<Figure size 720x360 with 4 Axes>"
      ]
     },
     "metadata": {
      "needs_background": "light"
     },
     "output_type": "display_data"
    }
   ],
   "source": [
    "# visualize the training image \"boot_x\" after it passes through the above four filters + pooling layer\n",
    "maxp_output_img_shape = (14,14)\n",
    "fig, ax = plt.subplots(1, 4, figsize=(10, 5))\n",
    "ax[0] = plot_face(ax[0], pool_output[:, :, :, 0].flatten(), maxp_output_img_shape)\n",
    "ax[1] = plot_face(ax[1], pool_output[:, :, :, 1].flatten(), maxp_output_img_shape)\n",
    "ax[2] = plot_face(ax[2], pool_output[:, :, :, 2].flatten(), maxp_output_img_shape)\n",
    "ax[3] = plot_face(ax[3], pool_output[:, :, :, 3].flatten(), maxp_output_img_shape)\n",
    "plt.show()"
   ]
  },
  {
   "cell_type": "markdown",
   "metadata": {},
   "source": [
    "### Describe how each layer has transformed the data.\n",
    "\n",
    "- In Convolution Layer has 4 filter kernels with dimensions (8 x 8) each, that perform convolution operation with same size (8 x 8) sub grid of input image of dimensions(64 x 64 x 1) and move 1 stride in each iteration, first horizontally then vertically. Sum of dot products of corresponding elements is the output of this layer. This results into a smaller size output of dimension (57 x 57) each for 4 filters which has been visualized as the output of the convolution layer. The non-linear activation function 'relu' gives outputs that are greater than 0.\n",
    "- MaxPooling2D Layer has a pool_size of (4 x 4) which means that for every (4 x 4) sub-matrix moving with 1 stride on (57 x 57) image output of convoliton layer a maximum value from these 4 elements will be resulting into output of this layer. This will reduce the convoluted image from (57 x 57) into (14 x 14) image output for each of the 4 filter kernels.\n",
    "- These (14 x 14 x 4) are flattened into a single vector array with 784 values which passes through 4 hidden layers that are able to learn features and representations through a connected neural network. The classifier can then recognize these sub-patterns in more faces images dataset."
   ]
  }
 ],
 "metadata": {
  "colab": {
   "name": "HW3.ipynb",
   "provenance": []
  },
  "kernelspec": {
   "display_name": "tensorflow python 3.9.10",
   "language": "python",
   "name": "tensorflow"
  },
  "language_info": {
   "codemirror_mode": {
    "name": "ipython",
    "version": 3
   },
   "file_extension": ".py",
   "mimetype": "text/x-python",
   "name": "python",
   "nbconvert_exporter": "python",
   "pygments_lexer": "ipython3",
   "version": "3.9.5"
  }
 },
 "nbformat": 4,
 "nbformat_minor": 1
}
